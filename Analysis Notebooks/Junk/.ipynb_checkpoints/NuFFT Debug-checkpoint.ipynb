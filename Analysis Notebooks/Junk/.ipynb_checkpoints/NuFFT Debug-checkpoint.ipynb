{
 "cells": [
  {
   "cell_type": "code",
   "execution_count": 1,
   "metadata": {},
   "outputs": [],
   "source": [
    "from Packages.UpdateManager import UpdateManager\n",
    "import numpy as np"
   ]
  },
  {
   "cell_type": "code",
   "execution_count": 3,
   "metadata": {},
   "outputs": [],
   "source": [
    "import matplotlib.pyplot as plt"
   ]
  },
  {
   "cell_type": "code",
   "execution_count": null,
   "metadata": {},
   "outputs": [],
   "source": [
    "def Gaussian(x, sigma, mu = 0):\n",
    "    return np.sqrt(1/(sigma*np.sqrt(2*np.pi))*np.exp(-(x-mu)**2/(2*sigma**2)))\n",
    "\n",
    "def FTGaussian(k,sigma):\n",
    "    return np.sqrt(4*np.pi*sigma**2)/((2*sigma**2*np.pi)**(1/4))*np.exp(-4*(sigma*np.pi*k)**2)"
   ]
  },
  {
   "cell_type": "code",
   "execution_count": null,
   "metadata": {},
   "outputs": [],
   "source": [
    "x = np.linspace(-10,10,1000)\n",
    "%matplotlib inline\n",
    "fig, ax = plt.subplots()\n",
    "plt.plot(x, Gaussian(x,1,0))"
   ]
  },
  {
   "cell_type": "code",
   "execution_count": null,
   "metadata": {},
   "outputs": [],
   "source": [
    "dx = x[1]-x[0]\n",
    "Norm = np.sum(dx*(Gaussian(x,1,0)**2))\n",
    "print(Norm)"
   ]
  },
  {
   "cell_type": "code",
   "execution_count": null,
   "metadata": {},
   "outputs": [],
   "source": [
    "FFTGaussian = 20*np.fft.fftshift(np.fft.ifft(np.fft.ifftshift(Gaussian(x,1,0)))) #Here is how to use numpys fft correctly\n",
    "dW = 1/(20)\n",
    "N = len(x)\n",
    "w = np.linspace(-N/2,N/2-1,N)*dW"
   ]
  },
  {
   "cell_type": "code",
   "execution_count": null,
   "metadata": {},
   "outputs": [],
   "source": [
    "plt.plot(w,FFTGaussian)\n",
    "plt.plot(w,FTGaussian(w,1),'r')"
   ]
  },
  {
   "cell_type": "code",
   "execution_count": null,
   "metadata": {},
   "outputs": [],
   "source": [
    "plt.plot(w,(np.abs(FFTGaussian)-FTGaussian(w,1)))"
   ]
  },
  {
   "cell_type": "code",
   "execution_count": null,
   "metadata": {},
   "outputs": [],
   "source": [
    "print(np.sum(dW*np.abs(FFTGaussian)**2))"
   ]
  },
  {
   "cell_type": "code",
   "execution_count": null,
   "metadata": {},
   "outputs": [],
   "source": [
    "print(np.sum(dW*FTGaussian(w,1)**2))"
   ]
  },
  {
   "cell_type": "markdown",
   "metadata": {},
   "source": [
    "Now to make the NonUniform FFT work correctly:"
   ]
  },
  {
   "cell_type": "code",
   "execution_count": null,
   "metadata": {},
   "outputs": [],
   "source": [
    "import nfft"
   ]
  },
  {
   "cell_type": "code",
   "execution_count": null,
   "metadata": {},
   "outputs": [],
   "source": [
    "FFTGaussian = 20*np.fft.fftshift(np.fft.ifft(np.fft.ifftshift(Gaussian(x,1,0)))) #Here is how to use numpys fft correctly\n",
    "\n",
    "NUFFTGaussian = nfft.nfft_adjoint(x/20, Gaussian(x,1,0), len(x))*20/len(x) # And here is how to use the NuFFT. "
   ]
  },
  {
   "cell_type": "code",
   "execution_count": null,
   "metadata": {},
   "outputs": [],
   "source": [
    "fig, ax = plt.subplots()\n",
    "plt.plot(w,np.abs(FFTGaussian),'r')\n",
    "plt.plot(w,np.abs(NUFFTGaussian))"
   ]
  },
  {
   "cell_type": "code",
   "execution_count": null,
   "metadata": {},
   "outputs": [],
   "source": [
    "np.sum(dW*np.abs(NUFFTGaussian)**2)"
   ]
  },
  {
   "cell_type": "code",
   "execution_count": null,
   "metadata": {},
   "outputs": [],
   "source": [
    "plt.plot(w,np.abs(NUFFTGaussian)-FTGaussian(w,1))"
   ]
  },
  {
   "cell_type": "code",
   "execution_count": null,
   "metadata": {},
   "outputs": [],
   "source": [
    "x = np.sort(np.random.uniform(-1,1,100000))\n",
    "plt.plot(x,Gaussian(x,0.01,0),\".\")"
   ]
  },
  {
   "cell_type": "code",
   "execution_count": null,
   "metadata": {},
   "outputs": [],
   "source": [
    "NUFFTGaussian = nfft.nfft_adjoint(x/(x[-1]-x[0]), Gaussian(x,0.01,0), len(x))*(x[-1]-x[0])/len(x) # And here is how to use the NuFFT. "
   ]
  },
  {
   "cell_type": "code",
   "execution_count": null,
   "metadata": {},
   "outputs": [],
   "source": [
    "dW = 1/(x[-1]-x[0])\n",
    "N = len(x)\n",
    "w = np.linspace(-N/2,N/2-1,N)*dW"
   ]
  },
  {
   "cell_type": "code",
   "execution_count": null,
   "metadata": {},
   "outputs": [],
   "source": [
    "plt.plot(w, NUFFTGaussian)\n",
    "plt.plot(w,FTGaussian(w,0.01))"
   ]
  },
  {
   "cell_type": "code",
   "execution_count": null,
   "metadata": {},
   "outputs": [],
   "source": [
    "plt.plot(w,NUFFTGaussian-FTGaussian(w,0.01))"
   ]
  },
  {
   "cell_type": "code",
   "execution_count": null,
   "metadata": {},
   "outputs": [],
   "source": [
    "print(np.trapz(np.abs(NUFFTGaussian)**2,w))"
   ]
  },
  {
   "cell_type": "code",
   "execution_count": null,
   "metadata": {},
   "outputs": [],
   "source": []
  }
 ],
 "metadata": {
  "kernelspec": {
   "display_name": "Python 3",
   "language": "python",
   "name": "python3"
  },
  "language_info": {
   "codemirror_mode": {
    "name": "ipython",
    "version": 3
   },
   "file_extension": ".py",
   "mimetype": "text/x-python",
   "name": "python",
   "nbconvert_exporter": "python",
   "pygments_lexer": "ipython3",
   "version": "3.8.3"
  }
 },
 "nbformat": 4,
 "nbformat_minor": 4
}
